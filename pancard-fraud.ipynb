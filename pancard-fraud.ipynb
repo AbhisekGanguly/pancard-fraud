{
  "nbformat": 4,
  "nbformat_minor": 0,
  "metadata": {
    "colab": {
      "name": "pancard.ipynb",
      "provenance": [],
      "collapsed_sections": []
    },
    "kernelspec": {
      "name": "python3",
      "display_name": "Python 3"
    },
    "language_info": {
      "name": "python"
    }
  },
  "cells": [
    {
      "cell_type": "markdown",
      "metadata": {
        "id": "gf8qhI-UjP96"
      },
      "source": [
        "## PAN card fraud detection using computer vision\n",
        "This project will help us to instantly see if a PAN card is original or tampered with using only the image of the PAN card.\n",
        "\n",
        "To approach the problem we'll check the structural similarity between the original PAN card and the one uploaded by the user."
      ]
    },
    {
      "cell_type": "code",
      "metadata": {
        "id": "Q74_yy9Ujrz9"
      },
      "source": [
        "#importing the necessary packages\n",
        "from skimage.metrics import structural_similarity\n",
        "import imutils\n",
        "import cv2\n",
        "from PIL import Image\n",
        "import requests"
      ],
      "execution_count": 2,
      "outputs": []
    },
    {
      "cell_type": "code",
      "metadata": {
        "id": "decVZT8Uknn0"
      },
      "source": [
        "!mkdir pan_card_tampering\n",
        "!mkdir pan_card_tampering/image"
      ],
      "execution_count": 3,
      "outputs": []
    },
    {
      "cell_type": "code",
      "metadata": {
        "id": "mceCh32Zk-pA"
      },
      "source": [
        "original = Image.open(requests.get('https://www.thestatesman.com/wp-content/uploads/2019/07/pan-card.jpg', stream=True).raw)\n",
        "tampered = Image.open(requests.get('https://assets1.cleartax-cdn.com/s/img/20170526124335/Pan4.png', stream=True).raw)"
      ],
      "execution_count": 4,
      "outputs": []
    },
    {
      "cell_type": "code",
      "metadata": {
        "colab": {
          "base_uri": "https://localhost:8080/"
        },
        "id": "fCSs_j9il7Jn",
        "outputId": "414f8606-2219-44bf-9dd5-9717794bb035"
      },
      "source": [
        "#checking the file format of the images\n",
        "print(\"Original image\", original.format)\n",
        "print(\"Tampered image\", tampered.format)"
      ],
      "execution_count": 5,
      "outputs": [
        {
          "output_type": "stream",
          "name": "stdout",
          "text": [
            "Original image JPEG\n",
            "Tampered image PNG\n"
          ]
        }
      ]
    },
    {
      "cell_type": "code",
      "metadata": {
        "colab": {
          "base_uri": "https://localhost:8080/"
        },
        "id": "-Us9X1jAmeAs",
        "outputId": "dc90117c-c484-4ea1-fd04-438751d7ea71"
      },
      "source": [
        "#checking the size of the images\n",
        "print(\"Original image\", original.size)\n",
        "print(\"Tampered image\", tampered.size)"
      ],
      "execution_count": 6,
      "outputs": [
        {
          "output_type": "stream",
          "name": "stdout",
          "text": [
            "Original image (1200, 800)\n",
            "Tampered image (282, 179)\n"
          ]
        }
      ]
    },
    {
      "cell_type": "code",
      "metadata": {
        "id": "dc-7EgU-mvBi"
      },
      "source": [
        ""
      ],
      "execution_count": null,
      "outputs": []
    }
  ]
}